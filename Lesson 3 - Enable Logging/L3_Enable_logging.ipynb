{
 "cells": [
  {
   "cell_type": "markdown",
   "id": "cc6b7b9f-a75d-4b78-930f-26d2343ac2c2",
   "metadata": {},
   "source": [
    "# Lesson 3: Enable Logging"
   ]
  },
  {
   "cell_type": "markdown",
   "id": "06fc5839-0b4b-42a3-9aaf-99a97e347955",
   "metadata": {},
   "source": [
    "### Import all needed packages"
   ]
  },
  {
   "cell_type": "code",
   "execution_count": 1,
   "id": "63cf31e4",
   "metadata": {
    "height": 98
   },
   "outputs": [],
   "source": [
    "import boto3\n",
    "import json\n",
    "import os\n",
    "\n",
    "bedrock = boto3.client('bedrock', region_name=\"us-west-2\")"
   ]
  },
  {
   "cell_type": "code",
   "execution_count": 2,
   "id": "e5d9e31b",
   "metadata": {
    "height": 47
   },
   "outputs": [],
   "source": [
    "from helpers.CloudWatchHelper import CloudWatch_Helper\n",
    "cloudwatch = CloudWatch_Helper()"
   ]
  },
  {
   "cell_type": "code",
   "execution_count": 3,
   "id": "87a30e7e",
   "metadata": {
    "height": 30
   },
   "outputs": [],
   "source": [
    "log_group_name = '/my/amazon/bedrock/logs'"
   ]
  },
  {
   "cell_type": "code",
   "execution_count": 4,
   "id": "2461a51c",
   "metadata": {
    "height": 30
   },
   "outputs": [
    {
     "name": "stdout",
     "output_type": "stream",
     "text": [
      "Log group '/my/amazon/bedrock/logs' created successfully.\n"
     ]
    }
   ],
   "source": [
    "cloudwatch.create_log_group(log_group_name)"
   ]
  },
  {
   "cell_type": "code",
   "execution_count": 5,
   "id": "0afe5997",
   "metadata": {
    "height": 268
   },
   "outputs": [],
   "source": [
    "loggingConfig = {\n",
    "    'cloudWatchConfig': {\n",
    "        'logGroupName': log_group_name,\n",
    "        'roleArn': os.environ['LOGGINGROLEARN'],\n",
    "        'largeDataDeliveryS3Config': {\n",
    "            'bucketName': os.environ['LOGGINGBUCKETNAME'],\n",
    "            'keyPrefix': 'amazon_bedrock_large_data_delivery',\n",
    "        }\n",
    "    },\n",
    "    's3Config': {\n",
    "        'bucketName': os.environ['LOGGINGBUCKETNAME'],\n",
    "        'keyPrefix': 'amazon_bedrock_logs',\n",
    "    },\n",
    "    'textDataDeliveryEnabled': True,\n",
    "}"
   ]
  },
  {
   "cell_type": "code",
   "execution_count": 6,
   "id": "2ca33ffe",
   "metadata": {
    "height": 30
   },
   "outputs": [
    {
     "data": {
      "text/plain": [
       "{'ResponseMetadata': {'RequestId': '9b15b1f5-f829-4ec3-bdc1-7d86b21b21b6',\n",
       "  'HTTPStatusCode': 200,\n",
       "  'HTTPHeaders': {'date': 'Tue, 19 Mar 2024 12:44:27 GMT',\n",
       "   'content-type': 'application/json',\n",
       "   'content-length': '2',\n",
       "   'connection': 'keep-alive',\n",
       "   'x-amzn-requestid': '9b15b1f5-f829-4ec3-bdc1-7d86b21b21b6'},\n",
       "  'RetryAttempts': 0}}"
      ]
     },
     "execution_count": 6,
     "metadata": {},
     "output_type": "execute_result"
    }
   ],
   "source": [
    "bedrock.put_model_invocation_logging_configuration(loggingConfig=loggingConfig)"
   ]
  },
  {
   "cell_type": "code",
   "execution_count": 7,
   "id": "41fdb20d",
   "metadata": {
    "height": 30
   },
   "outputs": [
    {
     "data": {
      "text/plain": [
       "{'ResponseMetadata': {'RequestId': '5ef2b229-7251-40b6-b8fd-a466a9b4c858',\n",
       "  'HTTPStatusCode': 200,\n",
       "  'HTTPHeaders': {'date': 'Tue, 19 Mar 2024 12:44:58 GMT',\n",
       "   'content-type': 'application/json',\n",
       "   'content-length': '572',\n",
       "   'connection': 'keep-alive',\n",
       "   'x-amzn-requestid': '5ef2b229-7251-40b6-b8fd-a466a9b4c858'},\n",
       "  'RetryAttempts': 0},\n",
       " 'loggingConfig': {'cloudWatchConfig': {'logGroupName': '/my/amazon/bedrock/logs',\n",
       "   'roleArn': 'arn:aws:iam::355985022847:role/c99355a2566044l6195406t1w35598502284-LoggingIAMRole-bMH2lPQt4Bc0',\n",
       "   'largeDataDeliveryS3Config': {'bucketName': 'c99355a2566044l6195406t1w355985022-loggings3bucket-znumykrkcvhd',\n",
       "    'keyPrefix': 'amazon_bedrock_large_data_delivery'}},\n",
       "  's3Config': {'bucketName': 'c99355a2566044l6195406t1w355985022-loggings3bucket-znumykrkcvhd',\n",
       "   'keyPrefix': 'amazon_bedrock_logs'},\n",
       "  'textDataDeliveryEnabled': True,\n",
       "  'imageDataDeliveryEnabled': True,\n",
       "  'embeddingDataDeliveryEnabled': True}}"
      ]
     },
     "execution_count": 7,
     "metadata": {},
     "output_type": "execute_result"
    }
   ],
   "source": [
    "bedrock.get_model_invocation_logging_configuration()"
   ]
  },
  {
   "cell_type": "code",
   "execution_count": 8,
   "id": "95ebecb7",
   "metadata": {
    "height": 30
   },
   "outputs": [],
   "source": [
    "bedrock_runtime = boto3.client('bedrock-runtime', region_name=\"us-west-2\")"
   ]
  },
  {
   "cell_type": "code",
   "execution_count": 9,
   "id": "402c6311",
   "metadata": {
    "height": 421
   },
   "outputs": [
    {
     "name": "stdout",
     "output_type": "stream",
     "text": [
      "\n",
      "Foobar is a fictional planet that is the setting of many science fiction stories and movies. It is often described as a planet that is similar to Earth in terms of size and composition, but with some unique features that make it a fascinating and dangerous place to explore. One of the most notable features of Foobar is its atmosphere. The planet's atmosphere is thick and toxic, making it difficult for humans to breathe without specialized equipment. The atmosphere is also home to a wide range of exotic creatures, including giant insects, floating jellyfish, and mysterious monsters. Despite the dangers of its atmosphere, Foobar is also home to a thriving human civilization. The planet's inhabitants have developed advanced technology and culture, and they have built impressive cities and structures that soar high into the sky. One of the most famous cities on Foobar is Metropolis, a sprawling metropolis that is home to millions of people and is ruled by a powerful emperor. Metropolis is a hub of technology and innovation, with its streets filled with futuristic vehicles and buildings that seem to stretch out into the distance. Another notable feature of Foobar is its natural resources. The planet is rich in valuable minerals and resources, including gold, platinum, and rare metals. These resources have attracted the attention of many mining companies and corporations, who have sent expeditions to Foobar to extract them. However, these expeditions have often been met with resistance from the planet's native inhabitants, who are fiercely protective of their home and its resources. Despite the many challenges and dangers of exploring Foobar, it remains a popular destination for science fiction writers and filmmakers. The planet's unique features and rich mythology have made it a fertile ground for storytelling, and its potential for future exploration and discovery has endless possibilities. In conclusion, Foobar is a fictional planet that is a fascinating and dangerous place to explore. Its unique features and rich mythology have made it a popular setting for science fiction stories and movies, and its potential for future exploration and discovery remains endless. Whether you are a fan of science fiction or just curious about the possibilities of the universe, Foobar is a planet that is worth exploring.\n"
     ]
    }
   ],
   "source": [
    "prompt = \"Write an article about the fictional planet Foobar.\"\n",
    "\n",
    "kwargs = {\n",
    "    \"modelId\": \"amazon.titan-text-express-v1\",\n",
    "    \"contentType\": \"application/json\",\n",
    "    \"accept\": \"*/*\",\n",
    "    \"body\": json.dumps(\n",
    "        {\n",
    "            \"inputText\": prompt,\n",
    "            \"textGenerationConfig\": {\n",
    "                \"maxTokenCount\": 512,\n",
    "                \"temperature\": 0.7,\n",
    "                \"topP\": 0.9\n",
    "            }\n",
    "        }\n",
    "    )\n",
    "}\n",
    "\n",
    "response = bedrock_runtime.invoke_model(**kwargs)\n",
    "response_body = json.loads(response.get('body').read())\n",
    "\n",
    "generation = response_body['results'][0]['outputText']\n",
    "\n",
    "print(generation)"
   ]
  },
  {
   "cell_type": "code",
   "execution_count": 11,
   "id": "68a7bab7",
   "metadata": {
    "height": 30
   },
   "outputs": [
    {
     "name": "stdout",
     "output_type": "stream",
     "text": [
      "Permissions are correctly set for Amazon Bedrock logs.\n",
      "-------------------------\n",
      "\n",
      "{\n",
      "    \"schemaType\": \"ModelInvocationLog\",\n",
      "    \"schemaVersion\": \"1.0\",\n",
      "    \"timestamp\": \"2024-03-19T12:45:50Z\",\n",
      "    \"accountId\": \"355985022847\",\n",
      "    \"identity\": {\n",
      "        \"arn\": \"arn:aws:sts::355985022847:assumed-role/voclabs/user3166701=eyJhbGciOiJIUzI1NiJ9.eyJpc3MiOiJhcHAiLCJzdWIiOiIyNDk\"\n",
      "    },\n",
      "    \"region\": \"us-west-2\",\n",
      "    \"requestId\": \"2b017a41-3949-407e-a603-4a0dc32a01e1\",\n",
      "    \"operation\": \"InvokeModel\",\n",
      "    \"modelId\": \"amazon.titan-text-express-v1\",\n",
      "    \"input\": {\n",
      "        \"inputContentType\": \"application/json\",\n",
      "        \"inputBodyJson\": {\n",
      "            \"inputText\": \"Write an article about the fictional planet Foobar.\",\n",
      "            \"textGenerationConfig\": {\n",
      "                \"maxTokenCount\": 512,\n",
      "                \"temperature\": 0.7,\n",
      "                \"topP\": 0.9\n",
      "            }\n",
      "        },\n",
      "        \"inputTokenCount\": 10\n",
      "    },\n",
      "    \"output\": {\n",
      "        \"outputContentType\": \"application/json\",\n",
      "        \"outputBodyJson\": {\n",
      "            \"inputTextTokenCount\": 10,\n",
      "            \"results\": [\n",
      "                {\n",
      "                    \"tokenCount\": 428,\n",
      "                    \"outputText\": \"\\nFoobar is a fictional planet that is the setting of many science fiction stories and movies. It is often described as a planet that is similar to Earth in terms of size and composition, but with some unique features that make it a fascinating and dangerous place to explore. One of the most notable features of Foobar is its atmosphere. The planet's atmosphere is thick and toxic, making it difficult for humans to breathe without specialized equipment. The atmosphere is also home to a wide range of exotic creatures, including giant insects, floating jellyfish, and mysterious monsters. Despite the dangers of its atmosphere, Foobar is also home to a thriving human civilization. The planet's inhabitants have developed advanced technology and culture, and they have built impressive cities and structures that soar high into the sky. One of the most famous cities on Foobar is Metropolis, a sprawling metropolis that is home to millions of people and is ruled by a powerful emperor. Metropolis is a hub of technology and innovation, with its streets filled with futuristic vehicles and buildings that seem to stretch out into the distance. Another notable feature of Foobar is its natural resources. The planet is rich in valuable minerals and resources, including gold, platinum, and rare metals. These resources have attracted the attention of many mining companies and corporations, who have sent expeditions to Foobar to extract them. However, these expeditions have often been met with resistance from the planet's native inhabitants, who are fiercely protective of their home and its resources. Despite the many challenges and dangers of exploring Foobar, it remains a popular destination for science fiction writers and filmmakers. The planet's unique features and rich mythology have made it a fertile ground for storytelling, and its potential for future exploration and discovery has endless possibilities. In conclusion, Foobar is a fictional planet that is a fascinating and dangerous place to explore. Its unique features and rich mythology have made it a popular setting for science fiction stories and movies, and its potential for future exploration and discovery remains endless. Whether you are a fan of science fiction or just curious about the possibilities of the universe, Foobar is a planet that is worth exploring.\",\n",
      "                    \"completionReason\": \"FINISH\"\n",
      "                }\n",
      "            ]\n",
      "        },\n",
      "        \"outputTokenCount\": 428\n",
      "    }\n",
      "}\n",
      "-------------------------\n",
      "\n"
     ]
    }
   ],
   "source": [
    "cloudwatch.print_recent_logs(log_group_name)"
   ]
  },
  {
   "cell_type": "markdown",
   "id": "1118acfb",
   "metadata": {},
   "source": [
    "To review the logs within the AWS console, please use the following link to reference the steps outlined in the video:"
   ]
  },
  {
   "cell_type": "code",
   "execution_count": 12,
   "id": "2cf443d2",
   "metadata": {
    "height": 47
   },
   "outputs": [],
   "source": [
    "from IPython.display import HTML\n",
    "aws_url = os.environ['AWS_CONSOLE_URL']"
   ]
  },
  {
   "cell_type": "code",
   "execution_count": null,
   "id": "0b7c904c",
   "metadata": {
    "height": 47
   },
   "outputs": [],
   "source": [
    "HTML(f'<a href=\"{aws_url}\" target=\"_blank\">GO TO AWS CONSOLE</a>')\n"
   ]
  }
 ],
 "metadata": {
  "kernelspec": {
   "display_name": "Python 3 (ipykernel)",
   "language": "python",
   "name": "python3"
  },
  "language_info": {
   "codemirror_mode": {
    "name": "ipython",
    "version": 3
   },
   "file_extension": ".py",
   "mimetype": "text/x-python",
   "name": "python",
   "nbconvert_exporter": "python",
   "pygments_lexer": "ipython3",
   "version": "3.11.8"
  }
 },
 "nbformat": 4,
 "nbformat_minor": 5
}
